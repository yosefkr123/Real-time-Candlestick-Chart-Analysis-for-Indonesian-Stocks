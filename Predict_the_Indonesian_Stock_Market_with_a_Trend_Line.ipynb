{
  "nbformat": 4,
  "nbformat_minor": 0,
  "metadata": {
    "colab": {
      "provenance": []
    },
    "kernelspec": {
      "name": "python3",
      "display_name": "Python 3"
    },
    "language_info": {
      "name": "python"
    }
  },
  "cells": [
    {
      "cell_type": "code",
      "execution_count": null,
      "metadata": {
        "id": "JxeEqz1b_raU"
      },
      "outputs": [],
      "source": [
        "import yfinance as yf\n",
        "import plotly.graph_objects as go\n",
        "import numpy as np\n",
        "import time\n",
        "\n",
        "# Prompt the user to input the stock symbol\n",
        "stock_symbol = input(\"Enter the stock symbol (e.g., BREN.JK): \")\n",
        "\n",
        "# Function to fetch real-time stock price data\n",
        "def get_realtime_data(symbol):\n",
        "    try:\n",
        "        stock_data = yf.Ticker(symbol)\n",
        "        data = stock_data.history(period=\"1d\", interval=\"1m\")\n",
        "        return data\n",
        "    except Exception as e:\n",
        "        print(f\"An error occurred while fetching data: {e}\")\n",
        "        return None\n",
        "\n",
        "# Function to update the candlestick chart\n",
        "def update_candlestick_chart(fig, data):\n",
        "    fig.add_trace(go.Candlestick(x=data.index,\n",
        "                    open=data['Open'],\n",
        "                    high=data['High'],\n",
        "                    low=data['Low'],\n",
        "                    close=data['Close']))\n",
        "\n",
        "# Function to add a trend line to the chart\n",
        "def add_trend_line(fig, data):\n",
        "    x = np.arange(len(data))\n",
        "    y = data['Close'].values\n",
        "\n",
        "    # Calculate linear regression\n",
        "    A = np.vstack([x, np.ones(len(x))]).T\n",
        "    m, c = np.linalg.lstsq(A, y, rcond=None)[0]\n",
        "\n",
        "    # Create trend line predictions\n",
        "    trend_line = m * x + c\n",
        "\n",
        "    fig.add_trace(go.Scatter(x=data.index, y=trend_line, mode='lines', line=dict(color='red', width=2), name='Trend Line'))\n",
        "\n",
        "# Main program\n",
        "if __name__ == \"__main__\":\n",
        "    fig = go.Figure()\n",
        "\n",
        "    while True:\n",
        "        data = get_realtime_data(stock_symbol)\n",
        "\n",
        "        if data is not None and not data.empty:\n",
        "            # Update the candlestick chart\n",
        "            update_candlestick_chart(fig, data)\n",
        "            add_trend_line(fig, data)\n",
        "            fig.update_layout(title=f\"Candlestick Chart with Trend Line for {stock_symbol}\",\n",
        "                              xaxis_title=\"Time\",\n",
        "                              yaxis_title=\"Price\")\n",
        "            fig.show()\n",
        "\n",
        "        # Wait for 5 minute before fetching the next data\n",
        "        time.sleep(300)\n"
      ]
    }
  ]
}